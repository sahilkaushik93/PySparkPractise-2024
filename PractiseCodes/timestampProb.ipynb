{
 "cells": [
  {
   "cell_type": "code",
   "execution_count": 2,
   "metadata": {},
   "outputs": [],
   "source": [
    "from pyspark.sql import SparkSession\n",
    "from pyspark.sql import functions as F\n",
    "from pyspark.sql.window import Window\n",
    "import os\n",
    "\n",
    "def create_spark_session():\n",
    "    # Create a SparkSession\n",
    "    spark = SparkSession.builder \\\n",
    "        .master(\"local[*]\") \\\n",
    "        .appName(\"SessionizationExample\") \\\n",
    "        .getOrCreate()\n",
    "    spark.sparkContext.setLogLevel(\"ERROR\")\n",
    "    return spark"
   ]
  },
  {
   "cell_type": "code",
   "execution_count": 16,
   "metadata": {},
   "outputs": [
    {
     "name": "stdout",
     "output_type": "stream",
     "text": [
      "e:\\Job & Interview Kit\\Revision Material\\PySpark\\Practise\n",
      "dataset1.txt\n",
      "+--------------------+-------+\n",
      "|Timestamp           |User_id|\n",
      "+--------------------+-------+\n",
      "|2021-05-01T10:00:00Z|u1     |\n",
      "|2021-05-01T10:10:00Z|u1     |\n",
      "|2021-05-01T11:50:00Z|u1     |\n",
      "|2021-05-01T12:05:00Z|u1     |\n",
      "|2021-05-01T13:00:00Z|u1     |\n",
      "|2021-05-01T13:30:00Z|u1     |\n",
      "|2021-05-01T14:30:00Z|u1     |\n",
      "|2021-05-01T15:50:00Z|u1     |\n",
      "|2021-05-01T17:00:00Z|u1     |\n",
      "|2021-05-02T09:00:00Z|u2     |\n",
      "|2021-05-02T09:45:00Z|u2     |\n",
      "|2021-05-02T11:00:00Z|u2     |\n",
      "|2021-05-02T11:30:00Z|u2     |\n",
      "|2021-05-02T13:05:00Z|u2     |\n",
      "|2021-05-02T14:10:00Z|u2     |\n",
      "+--------------------+-------+\n",
      "\n"
     ]
    }
   ],
   "source": [
    "spark = create_spark_session()\n",
    "\n",
    "# Step 1: Read the input data\n",
    "curr_dir = os.getcwd()\n",
    "print(curr_dir)\n",
    "file_path = \"dataset1.txt\"  # Adjust the path to match your environment\n",
    "print(file_path)\n",
    "df = spark.read.option(\"header\", \"true\").csv(file_path)\n",
    "\n",
    "# Show the initial DataFrame\n",
    "df.show(truncate=False)"
   ]
  },
  {
   "cell_type": "code",
   "execution_count": 18,
   "metadata": {},
   "outputs": [
    {
     "name": "stdout",
     "output_type": "stream",
     "text": [
      "+-------------------+-------+\n",
      "|timestamp          |User_id|\n",
      "+-------------------+-------+\n",
      "|2021-05-01 15:30:00|u1     |\n",
      "|2021-05-01 15:40:00|u1     |\n",
      "|2021-05-01 17:20:00|u1     |\n",
      "|2021-05-01 17:35:00|u1     |\n",
      "|2021-05-01 18:30:00|u1     |\n",
      "|2021-05-01 19:00:00|u1     |\n",
      "|2021-05-01 20:00:00|u1     |\n",
      "|2021-05-01 21:20:00|u1     |\n",
      "|2021-05-01 22:30:00|u1     |\n",
      "|2021-05-02 14:30:00|u2     |\n",
      "|2021-05-02 15:15:00|u2     |\n",
      "|2021-05-02 16:30:00|u2     |\n",
      "|2021-05-02 17:00:00|u2     |\n",
      "|2021-05-02 18:35:00|u2     |\n",
      "|2021-05-02 19:40:00|u2     |\n",
      "+-------------------+-------+\n",
      "\n"
     ]
    }
   ],
   "source": [
    "# Step 2: Convert the Timestamp column to a proper timestamp data type\n",
    "df = df.withColumn(\"timestamp\", F.col(\"Timestamp\").cast(\"timestamp\"))\n",
    "df.show(truncate=False)"
   ]
  },
  {
   "cell_type": "code",
   "execution_count": 19,
   "metadata": {},
   "outputs": [
    {
     "data": {
      "text/plain": [
       "<pyspark.sql.window.WindowSpec at 0x226d675d8b0>"
      ]
     },
     "execution_count": 19,
     "metadata": {},
     "output_type": "execute_result"
    }
   ],
   "source": [
    "# Step 3: Define a window specification for partitioning by User_id and ordering by timestamp\n",
    "window_spec = Window.partitionBy(\"User_id\").orderBy(\"timestamp\")\n",
    "window_spec"
   ]
  },
  {
   "cell_type": "code",
   "execution_count": 20,
   "metadata": {},
   "outputs": [
    {
     "name": "stdout",
     "output_type": "stream",
     "text": [
      "+-------------------+-------+-------------------+\n",
      "|timestamp          |User_id|prev_timestamp     |\n",
      "+-------------------+-------+-------------------+\n",
      "|2021-05-01 15:30:00|u1     |NULL               |\n",
      "|2021-05-01 15:40:00|u1     |2021-05-01 15:30:00|\n",
      "|2021-05-01 17:20:00|u1     |2021-05-01 15:40:00|\n",
      "|2021-05-01 17:35:00|u1     |2021-05-01 17:20:00|\n",
      "|2021-05-01 18:30:00|u1     |2021-05-01 17:35:00|\n",
      "|2021-05-01 19:00:00|u1     |2021-05-01 18:30:00|\n",
      "|2021-05-01 20:00:00|u1     |2021-05-01 19:00:00|\n",
      "|2021-05-01 21:20:00|u1     |2021-05-01 20:00:00|\n",
      "|2021-05-01 22:30:00|u1     |2021-05-01 21:20:00|\n",
      "|2021-05-02 14:30:00|u2     |NULL               |\n",
      "|2021-05-02 15:15:00|u2     |2021-05-02 14:30:00|\n",
      "|2021-05-02 16:30:00|u2     |2021-05-02 15:15:00|\n",
      "|2021-05-02 17:00:00|u2     |2021-05-02 16:30:00|\n",
      "|2021-05-02 18:35:00|u2     |2021-05-02 17:00:00|\n",
      "|2021-05-02 19:40:00|u2     |2021-05-02 18:35:00|\n",
      "+-------------------+-------+-------------------+\n",
      "\n",
      "+-------------------+-------+-------------------+---------+\n",
      "|timestamp          |User_id|prev_timestamp     |time_diff|\n",
      "+-------------------+-------+-------------------+---------+\n",
      "|2021-05-01 15:30:00|u1     |NULL               |NULL     |\n",
      "|2021-05-01 15:40:00|u1     |2021-05-01 15:30:00|600      |\n",
      "|2021-05-01 17:20:00|u1     |2021-05-01 15:40:00|6000     |\n",
      "|2021-05-01 17:35:00|u1     |2021-05-01 17:20:00|900      |\n",
      "|2021-05-01 18:30:00|u1     |2021-05-01 17:35:00|3300     |\n",
      "|2021-05-01 19:00:00|u1     |2021-05-01 18:30:00|1800     |\n",
      "|2021-05-01 20:00:00|u1     |2021-05-01 19:00:00|3600     |\n",
      "|2021-05-01 21:20:00|u1     |2021-05-01 20:00:00|4800     |\n",
      "|2021-05-01 22:30:00|u1     |2021-05-01 21:20:00|4200     |\n",
      "|2021-05-02 14:30:00|u2     |NULL               |NULL     |\n",
      "|2021-05-02 15:15:00|u2     |2021-05-02 14:30:00|2700     |\n",
      "|2021-05-02 16:30:00|u2     |2021-05-02 15:15:00|4500     |\n",
      "|2021-05-02 17:00:00|u2     |2021-05-02 16:30:00|1800     |\n",
      "|2021-05-02 18:35:00|u2     |2021-05-02 17:00:00|5700     |\n",
      "|2021-05-02 19:40:00|u2     |2021-05-02 18:35:00|3900     |\n",
      "+-------------------+-------+-------------------+---------+\n",
      "\n"
     ]
    }
   ],
   "source": [
    "# Step 4: Calculate the time difference between consecutive events for each user\n",
    "df = df.withColumn(\"prev_timestamp\", F.lag(\"timestamp\").over(window_spec))\n",
    "df.show(truncate=False)"
   ]
  },
  {
   "cell_type": "code",
   "execution_count": 21,
   "metadata": {},
   "outputs": [
    {
     "name": "stdout",
     "output_type": "stream",
     "text": [
      "+-------------------+-------+-------------------+---------+\n",
      "|timestamp          |User_id|prev_timestamp     |time_diff|\n",
      "+-------------------+-------+-------------------+---------+\n",
      "|2021-05-01 15:30:00|u1     |NULL               |NULL     |\n",
      "|2021-05-01 15:40:00|u1     |2021-05-01 15:30:00|600      |\n",
      "|2021-05-01 17:20:00|u1     |2021-05-01 15:40:00|6000     |\n",
      "|2021-05-01 17:35:00|u1     |2021-05-01 17:20:00|900      |\n",
      "|2021-05-01 18:30:00|u1     |2021-05-01 17:35:00|3300     |\n",
      "|2021-05-01 19:00:00|u1     |2021-05-01 18:30:00|1800     |\n",
      "|2021-05-01 20:00:00|u1     |2021-05-01 19:00:00|3600     |\n",
      "|2021-05-01 21:20:00|u1     |2021-05-01 20:00:00|4800     |\n",
      "|2021-05-01 22:30:00|u1     |2021-05-01 21:20:00|4200     |\n",
      "|2021-05-02 14:30:00|u2     |NULL               |NULL     |\n",
      "|2021-05-02 15:15:00|u2     |2021-05-02 14:30:00|2700     |\n",
      "|2021-05-02 16:30:00|u2     |2021-05-02 15:15:00|4500     |\n",
      "|2021-05-02 17:00:00|u2     |2021-05-02 16:30:00|1800     |\n",
      "|2021-05-02 18:35:00|u2     |2021-05-02 17:00:00|5700     |\n",
      "|2021-05-02 19:40:00|u2     |2021-05-02 18:35:00|3900     |\n",
      "+-------------------+-------+-------------------+---------+\n",
      "\n"
     ]
    }
   ],
   "source": [
    "df = df.withColumn(\"time_diff\", F.col(\"timestamp\").cast(\"long\") - F.col(\"prev_timestamp\").cast(\"long\"))\n",
    "df.show(truncate=False)"
   ]
  },
  {
   "cell_type": "code",
   "execution_count": 22,
   "metadata": {},
   "outputs": [
    {
     "data": {
      "text/plain": [
       "Column<'(((time_diff IS NULL) OR (time_diff > 1800)) OR (sum(time_diff) OVER (PARTITION BY User_id ORDER BY timestamp ASC NULLS FIRST unspecifiedframe$()) > 7200))'>"
      ]
     },
     "execution_count": 22,
     "metadata": {},
     "output_type": "execute_result"
    }
   ],
   "source": [
    "# Step 5: Determine when a new session should start\n",
    "session_start_condition = (F.col(\"time_diff\").isNull() | \n",
    "                            (F.col(\"time_diff\") > 1800) |  # 30 minutes timeout\n",
    "                            (F.sum(\"time_diff\").over(window_spec) > 7200))  # 2 hours max session\n",
    "session_start_condition"
   ]
  },
  {
   "cell_type": "code",
   "execution_count": 23,
   "metadata": {},
   "outputs": [
    {
     "name": "stdout",
     "output_type": "stream",
     "text": [
      "+-------------------+-------+-------------------+---------+-----------+\n",
      "|timestamp          |User_id|prev_timestamp     |time_diff|new_session|\n",
      "+-------------------+-------+-------------------+---------+-----------+\n",
      "|2021-05-01 15:30:00|u1     |NULL               |NULL     |1          |\n",
      "|2021-05-01 15:40:00|u1     |2021-05-01 15:30:00|600      |0          |\n",
      "|2021-05-01 17:20:00|u1     |2021-05-01 15:40:00|6000     |1          |\n",
      "|2021-05-01 17:35:00|u1     |2021-05-01 17:20:00|900      |1          |\n",
      "|2021-05-01 18:30:00|u1     |2021-05-01 17:35:00|3300     |1          |\n",
      "|2021-05-01 19:00:00|u1     |2021-05-01 18:30:00|1800     |1          |\n",
      "|2021-05-01 20:00:00|u1     |2021-05-01 19:00:00|3600     |1          |\n",
      "|2021-05-01 21:20:00|u1     |2021-05-01 20:00:00|4800     |1          |\n",
      "|2021-05-01 22:30:00|u1     |2021-05-01 21:20:00|4200     |1          |\n",
      "|2021-05-02 14:30:00|u2     |NULL               |NULL     |1          |\n",
      "|2021-05-02 15:15:00|u2     |2021-05-02 14:30:00|2700     |1          |\n",
      "|2021-05-02 16:30:00|u2     |2021-05-02 15:15:00|4500     |1          |\n",
      "|2021-05-02 17:00:00|u2     |2021-05-02 16:30:00|1800     |1          |\n",
      "|2021-05-02 18:35:00|u2     |2021-05-02 17:00:00|5700     |1          |\n",
      "|2021-05-02 19:40:00|u2     |2021-05-02 18:35:00|3900     |1          |\n",
      "+-------------------+-------+-------------------+---------+-----------+\n",
      "\n"
     ]
    }
   ],
   "source": [
    "df = df.withColumn(\"new_session\", F.when(session_start_condition, 1).otherwise(0))\n",
    "df.show(truncate=False)"
   ]
  },
  {
   "cell_type": "code",
   "execution_count": 25,
   "metadata": {},
   "outputs": [
    {
     "name": "stdout",
     "output_type": "stream",
     "text": [
      "+-------------------+-------+-------------------+---------+-----------+--------------+\n",
      "|          timestamp|User_id|     prev_timestamp|time_diff|new_session|session_number|\n",
      "+-------------------+-------+-------------------+---------+-----------+--------------+\n",
      "|2021-05-01 15:30:00|     u1|               NULL|     NULL|          1|             1|\n",
      "|2021-05-01 15:40:00|     u1|2021-05-01 15:30:00|      600|          0|             1|\n",
      "|2021-05-01 17:20:00|     u1|2021-05-01 15:40:00|     6000|          1|             2|\n",
      "|2021-05-01 17:35:00|     u1|2021-05-01 17:20:00|      900|          1|             3|\n",
      "|2021-05-01 18:30:00|     u1|2021-05-01 17:35:00|     3300|          1|             4|\n",
      "|2021-05-01 19:00:00|     u1|2021-05-01 18:30:00|     1800|          1|             5|\n",
      "|2021-05-01 20:00:00|     u1|2021-05-01 19:00:00|     3600|          1|             6|\n",
      "|2021-05-01 21:20:00|     u1|2021-05-01 20:00:00|     4800|          1|             7|\n",
      "|2021-05-01 22:30:00|     u1|2021-05-01 21:20:00|     4200|          1|             8|\n",
      "|2021-05-02 14:30:00|     u2|               NULL|     NULL|          1|             1|\n",
      "|2021-05-02 15:15:00|     u2|2021-05-02 14:30:00|     2700|          1|             2|\n",
      "|2021-05-02 16:30:00|     u2|2021-05-02 15:15:00|     4500|          1|             3|\n",
      "|2021-05-02 17:00:00|     u2|2021-05-02 16:30:00|     1800|          1|             4|\n",
      "|2021-05-02 18:35:00|     u2|2021-05-02 17:00:00|     5700|          1|             5|\n",
      "|2021-05-02 19:40:00|     u2|2021-05-02 18:35:00|     3900|          1|             6|\n",
      "+-------------------+-------+-------------------+---------+-----------+--------------+\n",
      "\n"
     ]
    }
   ],
   "source": [
    "# Step 6: Create a running session count\n",
    "df = df.withColumn(\"session_number\", F.sum(\"new_session\").over(window_spec))\n",
    "df.show()"
   ]
  },
  {
   "cell_type": "code",
   "execution_count": 26,
   "metadata": {},
   "outputs": [
    {
     "name": "stdout",
     "output_type": "stream",
     "text": [
      "+-------------------+-------+-------------------+---------+-----------+--------------+----------+\n",
      "|          timestamp|User_id|     prev_timestamp|time_diff|new_session|session_number|session_id|\n",
      "+-------------------+-------+-------------------+---------+-----------+--------------+----------+\n",
      "|2021-05-01 15:30:00|     u1|               NULL|     NULL|          1|             1|     u1_s1|\n",
      "|2021-05-01 15:40:00|     u1|2021-05-01 15:30:00|      600|          0|             1|     u1_s1|\n",
      "|2021-05-01 17:20:00|     u1|2021-05-01 15:40:00|     6000|          1|             2|     u1_s2|\n",
      "|2021-05-01 17:35:00|     u1|2021-05-01 17:20:00|      900|          1|             3|     u1_s3|\n",
      "|2021-05-01 18:30:00|     u1|2021-05-01 17:35:00|     3300|          1|             4|     u1_s4|\n",
      "|2021-05-01 19:00:00|     u1|2021-05-01 18:30:00|     1800|          1|             5|     u1_s5|\n",
      "|2021-05-01 20:00:00|     u1|2021-05-01 19:00:00|     3600|          1|             6|     u1_s6|\n",
      "|2021-05-01 21:20:00|     u1|2021-05-01 20:00:00|     4800|          1|             7|     u1_s7|\n",
      "|2021-05-01 22:30:00|     u1|2021-05-01 21:20:00|     4200|          1|             8|     u1_s8|\n",
      "|2021-05-02 14:30:00|     u2|               NULL|     NULL|          1|             1|     u2_s1|\n",
      "|2021-05-02 15:15:00|     u2|2021-05-02 14:30:00|     2700|          1|             2|     u2_s2|\n",
      "|2021-05-02 16:30:00|     u2|2021-05-02 15:15:00|     4500|          1|             3|     u2_s3|\n",
      "|2021-05-02 17:00:00|     u2|2021-05-02 16:30:00|     1800|          1|             4|     u2_s4|\n",
      "|2021-05-02 18:35:00|     u2|2021-05-02 17:00:00|     5700|          1|             5|     u2_s5|\n",
      "|2021-05-02 19:40:00|     u2|2021-05-02 18:35:00|     3900|          1|             6|     u2_s6|\n",
      "+-------------------+-------+-------------------+---------+-----------+--------------+----------+\n",
      "\n"
     ]
    }
   ],
   "source": [
    "# Step 7: Generate the session_id\n",
    "df = df.withColumn(\"session_id\", F.concat(F.col(\"User_id\"), F.lit(\"_s\"), F.col(\"session_number\")))\n",
    "df.show()"
   ]
  },
  {
   "cell_type": "code",
   "execution_count": 27,
   "metadata": {},
   "outputs": [
    {
     "name": "stdout",
     "output_type": "stream",
     "text": [
      "+-------------------+-------+----------+\n",
      "|Timestamp          |User_id|session_id|\n",
      "+-------------------+-------+----------+\n",
      "|2021-05-01 15:30:00|u1     |u1_s1     |\n",
      "|2021-05-01 15:40:00|u1     |u1_s1     |\n",
      "|2021-05-01 17:20:00|u1     |u1_s2     |\n",
      "|2021-05-01 17:35:00|u1     |u1_s3     |\n",
      "|2021-05-01 18:30:00|u1     |u1_s4     |\n",
      "|2021-05-01 19:00:00|u1     |u1_s5     |\n",
      "|2021-05-01 20:00:00|u1     |u1_s6     |\n",
      "|2021-05-01 21:20:00|u1     |u1_s7     |\n",
      "|2021-05-01 22:30:00|u1     |u1_s8     |\n",
      "|2021-05-02 14:30:00|u2     |u2_s1     |\n",
      "|2021-05-02 15:15:00|u2     |u2_s2     |\n",
      "|2021-05-02 16:30:00|u2     |u2_s3     |\n",
      "|2021-05-02 17:00:00|u2     |u2_s4     |\n",
      "|2021-05-02 18:35:00|u2     |u2_s5     |\n",
      "|2021-05-02 19:40:00|u2     |u2_s6     |\n",
      "+-------------------+-------+----------+\n",
      "\n"
     ]
    }
   ],
   "source": [
    "# Intermediate Result: Show the DataFrame after sessionization\n",
    "df.select(\"Timestamp\", \"User_id\", \"session_id\").show(truncate=False)"
   ]
  },
  {
   "cell_type": "code",
   "execution_count": 28,
   "metadata": {},
   "outputs": [],
   "source": [
    "# Step 8: Save the resultant DataFrame to a Parquet file\n",
    "# df.select(\"Timestamp\", \"User_id\", \"session_id\").write.mode(\"overwrite\").parquet(\"sessionized_data.parquet\")\n",
    "\n",
    "# Stop the SparkSession\n",
    "spark.stop()"
   ]
  }
 ],
 "metadata": {
  "kernelspec": {
   "display_name": "Python 3",
   "language": "python",
   "name": "python3"
  },
  "language_info": {
   "codemirror_mode": {
    "name": "ipython",
    "version": 3
   },
   "file_extension": ".py",
   "mimetype": "text/x-python",
   "name": "python",
   "nbconvert_exporter": "python",
   "pygments_lexer": "ipython3",
   "version": "3.12.3"
  }
 },
 "nbformat": 4,
 "nbformat_minor": 2
}
